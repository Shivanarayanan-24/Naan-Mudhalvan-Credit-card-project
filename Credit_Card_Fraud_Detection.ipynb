{
 "cells": [
  {
   "cell_type": "code",
   "execution_count": null,
   "id": "98502785",
   "metadata": {},
   "outputs": [],
   "source": [
    "# Step 1: Import required libraries\n",
    "import pandas as pd\n",
    "import numpy as np\n",
    "import matplotlib.pyplot as plt\n",
    "import seaborn as sns\n",
    "\n",
    "from sklearn.model_selection import train_test_split\n",
    "from sklearn.preprocessing import StandardScaler\n",
    "from sklearn.ensemble import RandomForestClassifier\n",
    "from sklearn.metrics import classification_report, confusion_matrix, roc_auc_score, roc_curve"
   ]
  },
  {
   "cell_type": "code",
   "execution_count": null,
   "id": "7b90a86d",
   "metadata": {},
   "outputs": [],
   "source": [
    "# Step 2: Load the dataset\n",
    "df = pd.read_csv('/content/credit_card_fraud_dataset.csv')"
   ]
  },
  {
   "cell_type": "code",
   "execution_count": null,
   "id": "5b9b9bae",
   "metadata": {},
   "outputs": [],
   "source": [
    "# Step 3: Basic data overview\n",
    "print(\"Dataset shape:\", df.shape)\n",
    "print(df.info())\n",
    "print(\"Missing values:\\n\", df.isnull().sum())"
   ]
  },
  {
   "cell_type": "code",
   "execution_count": null,
   "id": "647e8a21",
   "metadata": {},
   "outputs": [],
   "source": [
    "# Step 4: Visualize class distribution\n",
    "sns.countplot(x='Class', data=df)\n",
    "plt.title(\"Distribution of Transaction Classes (0: Legit, 1: Fraud)\")\n",
    "plt.show()"
   ]
  },
  {
   "cell_type": "code",
   "execution_count": null,
   "id": "1f731955",
   "metadata": {},
   "outputs": [],
   "source": [
    "# Step 5: Separate features and target\n",
    "X = df.drop('Class', axis=1)\n",
    "y = df['Class']"
   ]
  },
  {
   "cell_type": "code",
   "execution_count": null,
   "id": "0b936f0c",
   "metadata": {},
   "outputs": [],
   "source": [
    "# Step 6: Feature scaling\n",
    "scaler = StandardScaler()\n",
    "X_scaled = scaler.fit_transform(X)"
   ]
  },
  {
   "cell_type": "code",
   "execution_count": null,
   "id": "a76d0a7c",
   "metadata": {},
   "outputs": [],
   "source": [
    "# Step 7: Train-test split\n",
    "X_train, X_test, y_train, y_test = train_test_split(X_scaled, y, test_size=0.3, stratify=y, random_state=42)"
   ]
  },
  {
   "cell_type": "code",
   "execution_count": null,
   "id": "77436ef2",
   "metadata": {},
   "outputs": [],
   "source": [
    "# Step 8: Train the model\n",
    "rf = RandomForestClassifier(n_estimators=100, random_state=42)\n",
    "rf.fit(X_train, y_train)"
   ]
  },
  {
   "cell_type": "code",
   "execution_count": null,
   "id": "85d739e5",
   "metadata": {},
   "outputs": [],
   "source": [
    "# Step 9: Predictions and evaluation\n",
    "y_pred = rf.predict(X_test)\n",
    "y_proba = rf.predict_proba(X_test)[:, 1]\n",
    "\n",
    "print(\"\\nConfusion Matrix:\\n\", confusion_matrix(y_test, y_pred))\n",
    "print(\"\\nClassification Report:\\n\", classification_report(y_test, y_pred))\n",
    "print(\"ROC AUC Score:\", roc_auc_score(y_test, y_proba))"
   ]
  },
  {
   "cell_type": "code",
   "execution_count": null,
   "id": "854eddbb",
   "metadata": {},
   "outputs": [],
   "source": [
    "# Step 10: Plot ROC Curve\n",
    "fpr, tpr, _ = roc_curve(y_test, y_proba)\n",
    "plt.figure(figsize=(8,6))\n",
    "plt.plot(fpr, tpr, label='AUC = %.3f' % roc_auc_score(y_test, y_proba))\n",
    "plt.plot([0, 1], [0, 1], 'k--')  # random guess line\n",
    "plt.xlabel('False Positive Rate')\n",
    "plt.ylabel('True Positive Rate')\n",
    "plt.title('ROC Curve - Random Forest')\n",
    "plt.legend()\n",
    "plt.grid()\n",
    "plt.show()"
   ]
  },
  {
   "cell_type": "code",
   "execution_count": null,
   "id": "7cd4df0b",
   "metadata": {},
   "outputs": [],
   "source": [
    "# Additional Data Check for Custom Target Column\n",
    "print(\"Column names in your dataset:\\n\", df.columns)\n",
    "print(\"\\nSample data:\\n\", df.head())"
   ]
  },
  {
   "cell_type": "code",
   "execution_count": null,
   "id": "953a21d1",
   "metadata": {},
   "outputs": [],
   "source": [
    "# Check if the updated target column exists\n",
    "target_column = 'IsFraud'\n",
    "if target_column not in df.columns:\n",
    "    raise ValueError(f\"Target column '{target_column}' not found. Please update it to match the correct column name from your dataset.\")"
   ]
  },
  {
   "cell_type": "code",
   "execution_count": null,
   "id": "2f30cad8",
   "metadata": {},
   "outputs": [],
   "source": [
    "# Drop non-numeric columns if present\n",
    "df = df.drop(['TransactionDate', 'TransactionType', 'Location'], axis=1)\n",
    "\n",
    "# Redefine features and target\n",
    "X = df.drop(target_column, axis=1)\n",
    "y = df[target_column]"
   ]
  },
  {
   "cell_type": "code",
   "execution_count": null,
   "id": "80a94c74",
   "metadata": {},
   "outputs": [],
   "source": [
    "# Visualize new class distribution\n",
    "sns.countplot(x=y)\n",
    "plt.title(\"Transaction Class Distribution (0: Legit, 1: Fraud)\")\n",
    "plt.show()"
   ]
  },
  {
   "cell_type": "code",
   "execution_count": null,
   "id": "b88322fa",
   "metadata": {},
   "outputs": [],
   "source": [
    "# Feature scaling and model training again\n",
    "X_scaled = scaler.fit_transform(X)\n",
    "X_train, X_test, y_train, y_test = train_test_split(X_scaled, y, test_size=0.3, stratify=y, random_state=42)\n",
    "\n",
    "model = RandomForestClassifier(n_estimators=100, random_state=42)\n",
    "model.fit(X_train, y_train)\n",
    "\n",
    "y_pred = model.predict(X_test)\n",
    "y_proba = model.predict_proba(X_test)[:, 1]\n",
    "\n",
    "print(\"\\nConfusion Matrix:\\n\", confusion_matrix(y_test, y_pred))\n",
    "print(\"\\nClassification Report:\\n\", classification_report(y_test, y_pred))\n",
    "print(\"ROC AUC Score:\", roc_auc_score(y_test, y_proba))"
   ]
  },
  {
   "cell_type": "code",
   "execution_count": null,
   "id": "87071dea",
   "metadata": {},
   "outputs": [],
   "source": [
    "# ROC Curve for new model\n",
    "fpr, tpr, _ = roc_curve(y_test, y_proba)\n",
    "plt.figure(figsize=(8,6))\n",
    "plt.plot(fpr, tpr, label=f\"AUC = {roc_auc_score(y_test, y_proba):.3f}\")\n",
    "plt.plot([0, 1], [0, 1], 'k--')\n",
    "plt.xlabel(\"False Positive Rate\")\n",
    "plt.ylabel(\"True Positive Rate\")\n",
    "plt.title(\"ROC Curve\")\n",
    "plt.legend()\n",
    "plt.grid(True)\n",
    "plt.show()"
   ]
  }
 ],
 "metadata": {},
 "nbformat": 4,
 "nbformat_minor": 5
}
